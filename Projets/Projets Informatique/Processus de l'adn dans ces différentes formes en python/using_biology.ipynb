{
 "cells": [
  {
   "cell_type": "markdown",
   "metadata": {},
   "source": [
    "### Partie 1\n",
    "\n",
    "Les exercices s'appuient sur la notion d'[ADN](https://fr.wikipedia.org/wiki/Acide_d%C3%A9soxyribonucl%C3%A9ique)/[ARN](https://fr.wikipedia.org/wiki/Acide_ribonucl%C3%A9ique). On supposera dans l'ensemble des exercices que l'ADN est codé sous la forme d'une chaîne de caractères contenant uniquement les lettres majuscules `A`, `T`, `G`, `C` correspondant aux différentes bases (adénine, cytosine, guanine ou thymine).\n",
    "L'ARN sera codé sous la forme d'une chaîne de caractères contenant uniquement les lettres majuscules `A`, `U`, `G`, `C`.\n",
    "\n",
    "#### Question 1\n",
    "\n",
    "Définir la fonction `est_base` prenant en paramètre un caractère et retournant `True` si ce caractère correspond à une base de l'ADN (est un des caractères `A`, `T`, `G`, `C`), et `False` sinon. \n",
    "\n",
    "À titre d'exemple, l'appel de la fonction `est_base` avec la valeur `\"A\"` doit retourner `True` alors que l'appel avec la valeur `\"z\"` doit retourner `False`.\n"
   ]
  },
  {
   "cell_type": "code",
   "execution_count": 32,
   "metadata": {},
   "outputs": [],
   "source": [
    "def est_base(c):\n",
    "    \"\"\"\n",
    "    On vérifie si le caractère correspond à l'un des caractère d'une base de l'ADN.\n",
    "    \"\"\"\n",
    "    \n",
    "    if c == \"A\" or c == \"T\" or c == \"G\" or c ==\"C\":\n",
    "        return True\n",
    "    else:\n",
    "        return False"
   ]
  },
  {
   "cell_type": "code",
   "execution_count": 33,
   "metadata": {},
   "outputs": [
    {
     "name": "stdout",
     "output_type": "stream",
     "text": [
      "Test unitaire : OK\n"
     ]
    }
   ],
   "source": [
    "def test_est_base():\n",
    "    assert est_base(\"A\") == True\n",
    "    assert est_base(\"c\") == False\n",
    "    assert est_base(\"R\") == False\n",
    "    print(\"Test unitaire : OK\")\n",
    "\n",
    "test_est_base()"
   ]
  },
  {
   "cell_type": "markdown",
   "metadata": {},
   "source": [
    "#### Question 2\n",
    "\n",
    "Définir la fonction `est_adn` prenant en paramètre une chaîne de caractères et retournant `True` si la chaîne correspond à un ADN (est constituée uniquement des caractères `A`, `T`, `G`, `C`), et `False` sinon.\n",
    "\n",
    "À titre d'exemple, l'appel de la fonction `est_adn` avec la valeur `\"ATGTCAAA\"` doit retourner `True` alors que l'appel avec la valeur `\"ATBOAATG\"` doit retourner `False`.\n",
    "\n"
   ]
  },
  {
   "cell_type": "code",
   "execution_count": 34,
   "metadata": {},
   "outputs": [],
   "source": [
    "def est_adn(s):\n",
    "    \"\"\"\n",
    "    On vérifie si la chaîne de caractère est uniquement composé de caractère qui correspond\n",
    "    aux caractère d'une base de l'ADN en utilisant la fonction de la question 1.\n",
    "    \"\"\"\n",
    "    i = 0\n",
    "    while i < len(s):\n",
    "        if est_base(s[i])== False:\n",
    "            return False\n",
    "        i += 1\n",
    "    return True"
   ]
  },
  {
   "cell_type": "code",
   "execution_count": 35,
   "metadata": {},
   "outputs": [
    {
     "name": "stdout",
     "output_type": "stream",
     "text": [
      "Test unitaire : OK\n"
     ]
    }
   ],
   "source": [
    "def test_est_adn():\n",
    "    assert est_adn(\"AC\") == True\n",
    "    assert est_adn(\"ATC\") == True\n",
    "    assert est_adn (\"TAGF\") == False\n",
    "    print (\"Test unitaire : OK\")\n",
    "\n",
    "test_est_adn()"
   ]
  },
  {
   "cell_type": "markdown",
   "metadata": {},
   "source": [
    "#### Question 3\n",
    "\n",
    "L'ARN est construit à partir de l'ADN en remplaçant la thymine `T` par l'uracile codé par la lettre `U`. Ainsi la transcription de la séquence ADN `ATTGCA` en ARN donne `AUUGCA`.\n",
    "\n",
    "Définir la fonction `arn` prenant en paramètre une séquence d'ADN et retournant la séquence ARN associée.\n",
    "\n",
    "À titre d'exemple, l'appel de la fonction `arn` avec la valeur `\"ATGTCAAA\"` doit retourner `\"AUGUCAAA\"`.\n",
    "\n",
    "**Attention :** si la chaîne passée en paramètre ne correspond pas à de l'ADN, la fonction `arn` doit retourner la valeur `None`."
   ]
  },
  {
   "cell_type": "code",
   "execution_count": 36,
   "metadata": {},
   "outputs": [],
   "source": [
    "def arn(adn):\n",
    "    \"\"\"\n",
    "    On modifie le caractère T en U d'une chaîne de caractère d'une base de l'ADN pour trouver l'ARN \n",
    "    en vérifiant si la chaîne de caractère est valide en utilisant les deux fonctions précédentes.\n",
    "    \"\"\"\n",
    "    if est_adn(adn) == True:\n",
    "        arn = adn.replace(\"T\", \"U\")\n",
    "    else:\n",
    "        return None\n",
    "    return arn"
   ]
  },
  {
   "cell_type": "code",
   "execution_count": 37,
   "metadata": {},
   "outputs": [
    {
     "name": "stdout",
     "output_type": "stream",
     "text": [
      "Test unitaire : OK\n"
     ]
    }
   ],
   "source": [
    "def test_arn():\n",
    "    assert arn(\"ATGTCAAA\") == \"AUGUCAAA\"\n",
    "    assert arn(\"TTAGCA\") == \"UUAGCA\"\n",
    "    assert arn(\"GAACA\") == \"GAACA\"\n",
    "    print(\"Test unitaire : OK\")\n",
    "    \n",
    "test_arn()"
   ]
  },
  {
   "cell_type": "markdown",
   "metadata": {},
   "source": [
    "#### Question 4\n",
    "\n",
    "Un codon est une séquence de trois bases sur un ARN (messager) spécifiant l'un des 22 acides aminés protéinogènes dont la succession sur l'ARN détermine la structure primaire de la protéine à synthétiser *(définition issue de Wikipedia)*.\n",
    "\n",
    "Définir la fonction `arn_to_codons` prenant en paramètre une chaîne de caractères correspondant à de l'ARN et découpant cet ARN en codons. La fonction doit retourner un tableau contenant la liste des codons.\n",
    "Par exemple, l'appel de la fonction `arn_to_codons` avec l'ARN `\"CGUUAGGGG\"` doit retourner le tableau `[\"CGU\", \"UAG\", \"GGG\"]`.\n",
    "\n",
    "**Remarque :** Si le nombre de nucléotides dans l'ARN n'est pas un multiple de 3, les derniers sont ignorés. Par exemple, les ARN `\"CGUAAU\"` et `\"CGUAAUGC\"` donnent tous les deux la séquence de codons `[\"CGU\", \"AAU\"]`."
   ]
  },
  {
   "cell_type": "code",
   "execution_count": 38,
   "metadata": {},
   "outputs": [],
   "source": [
    "def arn_to_codons(arn):\n",
    "    \"\"\"\n",
    "    A chaque fois que le programme compte 3 caractères dans la chaîne de caractère, le tableau prend \n",
    "    les 3 premiers caractères et continue jusqu'au bout de la chaîne.\n",
    "    \"\"\"\n",
    "    tableau = []\n",
    "    chaine = \"\"\n",
    "    i = 0\n",
    "    while i < len(arn):\n",
    "        chaine += arn[i]\n",
    "        if (i+1) % 3 == 0 and i != 0:\n",
    "            tableau.append(chaine)\n",
    "            chaine = \"\"\n",
    "        i += 1\n",
    "    return tableau"
   ]
  },
  {
   "cell_type": "code",
   "execution_count": 39,
   "metadata": {},
   "outputs": [
    {
     "name": "stdout",
     "output_type": "stream",
     "text": [
      "Test unitaire : OK\n"
     ]
    }
   ],
   "source": [
    "def test_arn_to_codons():\n",
    "    assert arn_to_codons(\"CGUAAUGC\") == [\"CGU\", \"AAU\"]\n",
    "    assert arn_to_codons(\"CGUAAU\") == [\"CGU\", \"AAU\"]\n",
    "    assert arn_to_codons(\"AACGUCC\") == [\"AAC\", \"GUC\"]\n",
    "    assert arn_to_codons(\"CGAA\") == [\"CGA\"]\n",
    "    print(\"Test unitaire : OK\")\n",
    "\n",
    "test_arn_to_codons()"
   ]
  },
  {
   "cell_type": "markdown",
   "metadata": {},
   "source": [
    "#### Question 5\n",
    "\n",
    "Chaque codon correspond à un acide aminé.\n",
    "Par exemple, le codon `UUU` correspond à l'acide aminé Phenylalanine. Plusieurs codons correspondent à un même acide aminé. \n",
    "Certains codons, correspondant à la fin du séquençage des acides aminés, sont appelés *codons stop*. C'est le cas du codon `UAA` par exemple.\n",
    "\n",
    "Le fichier `data/codons_aa.json` contient la correspondance entre codons et acides aminés au format JSON. Les codons qui ne sont pas dans le fichier sont les codons stop.\n",
    "\n",
    "\n",
    "* Définir la fonction `load_dico_codons_aa` qui prend en paramètre un fichier au format JSON et retourne la structure de données chargée en mémoire à partir du JSON."
   ]
  },
  {
   "cell_type": "code",
   "execution_count": 40,
   "metadata": {},
   "outputs": [],
   "source": [
    "def load_dico_codons_aa(filename):\n",
    "    fichier = open (filename)\n",
    "    strjson = fichier.read()\n",
    "    fichier.close()\n",
    "    acide_aminé = loads(strjson)\n",
    "    return acide_aminé"
   ]
  },
  {
   "cell_type": "markdown",
   "metadata": {},
   "source": [
    "* Définir la fonction `codons_stop` prenant en paramètre un dictionnaire dont les clés sont les codons et les valeurs les acides aminés correspondants (chaînes de caractères). La fonction retournera un tableau contenant l'ensemble des codons stop, c'est-à-dire l'ensemble des codons possibles avec les caractères `AUGC` qui ne sont pas des clés du dictionnaire.\n",
    "\n",
    "\n",
    "**Remarque :** Créer une variable initialisée avec les données contenues dans un fichier au format JSON se fait très facilement en python. Pour plus d'information, relire la fin du [cours 9 du module M1102](https://github.com/iutVilletaneuseDptInfo/M1102/blob/master/09_Dictionnnaires/cours9.ipynb)."
   ]
  },
  {
   "cell_type": "code",
   "execution_count": 41,
   "metadata": {},
   "outputs": [],
   "source": [
    "def codons_stop(dico):\n",
    "    \"\"\"\n",
    "    On fait une première boucle pour répéter la boucle imbriqué par rapport au nombre de codons donnés\n",
    "    et la boucle imbriqués vérifie si le codon donné est égal à un codon dans le dico et si non, la \n",
    "    boucle imbriqué s'arrête et le tableau prend la valeur du codon.\n",
    "    \"\"\"\n",
    "    dic = list(acide_aminé)\n",
    "    i = 0\n",
    "    j = 0\n",
    "    tableau = []\n",
    "    while i < len(dico):\n",
    "        while j < len(dic):\n",
    "            if dic[j] == dico[i]:\n",
    "                j += len(dic) \n",
    "            elif j == 59:\n",
    "                tableau.append(dico[i])\n",
    "            j += 1\n",
    "        i += 1\n",
    "        j = 0\n",
    "        \n",
    "    return tableau"
   ]
  },
  {
   "cell_type": "code",
   "execution_count": 42,
   "metadata": {},
   "outputs": [
    {
     "name": "stdout",
     "output_type": "stream",
     "text": [
      "Test unitaire : OK\n"
     ]
    }
   ],
   "source": [
    "def test_codons_stop():\n",
    "    assert codons_stop([\"CGU\", \"AAU\", \"UAA\", \"GGG\", \"CGU\"]) == [\"UAA\"]\n",
    "    assert codons_stop([\"CGU\", \"AUU\", \"GCG\"]) == []\n",
    "    assert codons_stop([\"CGA\", \"GGU\", \"AGA\", \"GAA\", \"CAU\"]) == [\"AGA\"]\n",
    "    print(\"Test unitaire : OK\")\n",
    "    \n",
    "test_codons_stop()"
   ]
  },
  {
   "cell_type": "markdown",
   "metadata": {},
   "source": [
    "#### Question 6\n",
    "\n",
    "Définir la fonction `codons_to_aa` prenant en paramètre un tableau de codons (correspondant par exemple à une valeur retournée par la fonction `arn_to_codons`) et le dictionnaire de correspondance entre codons et acides aminés. La fonction devra retourner un tableau contenant les acides aminés correspondant aux codons.\n",
    "\n",
    "**Attention :** Si l'un des codons est un codon stop, alors la synthèse (traduction des codons en acides aminés) s'arrête. Par exemple, si le tableau de codons passé en paramètre est `[\"CGU\", \"AAU\", \"UAA\", \"GGG\", \"CGU\"]`, alors le tableau retourné doit être `[\"Arginine\", \"Asparagine\"]` car le codon `CGU` correspond à l'Arginine, le codon `AAU` correspond à l'asparagine et `UAA` est un codon stop.\n"
   ]
  },
  {
   "cell_type": "code",
   "execution_count": 43,
   "metadata": {},
   "outputs": [],
   "source": [
    " def codons_to_aa(codons, dico):\n",
    "    \"\"\"\n",
    "    On prend le premier codon donné et on vérifie si il est dans le dictionnaire des codons. Si il y est,\n",
    "    on arrête la boucle, met sa valeur dans le tableau et on prend le prochain codon et si il n'y est pas,\n",
    "    on arrête la boucle et retourne le tableau\n",
    "    \"\"\"\n",
    "    i = 0\n",
    "    tableau = []\n",
    "    tableau2 = []\n",
    "    while i < len(codons):\n",
    "        tableau2.append(codons[i])\n",
    "        if codons_stop(codons) == tableau2:\n",
    "            i = len(codons)\n",
    "        else:\n",
    "            tableau.append(dico[codons[i]])\n",
    "            tableau2 = []\n",
    "            i += 1\n",
    "                                \n",
    "    return tableau"
   ]
  },
  {
   "cell_type": "code",
   "execution_count": 44,
   "metadata": {},
   "outputs": [
    {
     "name": "stdout",
     "output_type": "stream",
     "text": [
      "Test unitaire : OK\n"
     ]
    }
   ],
   "source": [
    "def test_codons_to_aa():\n",
    "    assert codons_to_aa([\"CGU\", \"AAU\", \"UAA\", \"GGG\", \"CGU\"], acide_aminé) == [\"Arginine\", \"Asparagine\"]\n",
    "    assert codons_to_aa([\"CGU\", \"AAU\", \"CGU\"], acide_aminé) == [\"Arginine\", \"Asparagine\", \"Arginine\"]\n",
    "    assert codons_to_aa([\"CUU\", \"CCA\", \"GAA\", \"AGU\"], acide_aminé) == [\"Leucine\", \"Proline\",\"Glutamic acid\", \"Serine\"]\n",
    "    print(\"Test unitaire : OK\")\n",
    "    \n",
    "test_codons_to_aa()"
   ]
  },
  {
   "cell_type": "markdown",
   "metadata": {},
   "source": [
    "### Partie 2\n",
    "\n",
    "Le séquençage des acides aminés ne commence que lorsque le *codon start* est rencontré. Ce codon est le codon `AUG`. On appelle séquence codante l'ensemble des codons compris entre le codon start et un codon stop. Dans une séquence codante, le codon `AUG` correspond à l'acide aminé *Methionine*. Une séquence de codons peut contenir zéro, une ou plusieurs séquences codantes. Par exemple, la séquence `\"CGU\", \"UUU\", \"AUG\", \"CGU\", \"AUG\", \"AAU\", \"UAA\", \"AUG\", \"GGG\", \"CCC\",  \"CGU\", \"UAG\", \"GGG\"` contient deux séquences codantes : `\"CGU\", \"AUG\"` et `\"GGG\", \"CCC\", \"CGU\"` puisque `\"AAU\"` et `\"UAG\"` sont des codons stop.\n",
    "\n",
    "**Remarque :** Une séquence codante est délimitée par le codon start et un codon stop. Si la séquence de codons ne contient aucun codon stop, alors il n'y a pas de séquence codante.\n",
    "\n",
    "#### Question 1\n",
    "\n",
    "Définir la fonction `nextIndice` prenant en paramètre un tableau `tab`, un indice `ind` de `tab`, et un deuxième tableau `elements`. La fonction recherche dans le tableau `tab` à partir de l'indice `ind` et retourne l'indice de la première case du tableau `tab` contenant une valeur de `elements`.\n",
    "\n",
    "Par exemple, l'appel de la fonction `nextIndice` avec le tableau `tab` égal à `[\"bonjour\", \"hello\", \"buongiorno\", \"ciao\", \"bye\"]`, et le tableau `elements` égal à `[\"hello\", \"bye\"]` doit retourner 1 si `ind` est inférieur ou égal à 1 lors de l'appel, et 4 sinon.\n",
    "\n",
    "**Remarque :** si aucune valeur de `elements` n'apparaît dans `tab` à partir de l'indice `ind`, la fonction doit renvoyer la valeur `len(tab)`.\n"
   ]
  },
  {
   "cell_type": "code",
   "execution_count": 45,
   "metadata": {},
   "outputs": [],
   "source": [
    "def nextIndice(tab, ind, elements):\n",
    "    \"\"\"\n",
    "    On fait une boucle imbriqué pour pouvoir vérifier chaque éléments du tableau et si un élément du\n",
    "    tableau tab correspond à l'un des éléments du tableau elements, on regarde si l'ind est égal\n",
    "    à l'indice de l'emplacement de l'élément si oui on retourne i sinon on recommence jusqu'a trouver\n",
    "    le bonne indice\n",
    "    \"\"\"\n",
    "    i = 0\n",
    "    while i < len(tab):\n",
    "        y = 0 \n",
    "        while y < len(elements):\n",
    "            if tab[i] == elements[y]:\n",
    "                if ind <= i:\n",
    "                    return i\n",
    "            y += 1\n",
    "        i += 1\n",
    "    return len(tab)"
   ]
  },
  {
   "cell_type": "code",
   "execution_count": 46,
   "metadata": {},
   "outputs": [
    {
     "name": "stdout",
     "output_type": "stream",
     "text": [
      "Test unitaire : OK\n"
     ]
    }
   ],
   "source": [
    "def test_nextIndice():\n",
    "    assert nextIndice([\"bonjour\", \"hello\", \"buongiorno\", \"ciao\", \"bye\"], 1,[\"hello\", \"bye\"]) == 1\n",
    "    assert nextIndice([\"coucou\", \"hello\", \"bonsoir\", \"salut\", \"bye\"], 2,[\"bonsoir\", \"salut\"]) == 2\n",
    "    assert nextIndice([\"salutation\", \"hallo\", \"hola\", \"au revoir\", \"bye\"], 5,[\"hello\", \"bye\"]) == 5\n",
    "    print(\"Test unitaire : OK\")\n",
    "    \n",
    "test_nextIndice()"
   ]
  },
  {
   "cell_type": "markdown",
   "metadata": {},
   "source": [
    "#### Question 2\n",
    "\n",
    "Définir la fonction `decoupe_sequence` prenant en paramètre trois tableaux `seq`, `start` et `stop`. La fonction doit découper le tableau `seq` en séquences et retourner un tableau contenant les différents morceaux. Un morceau dans le tableau `seq` est une partie non vide de `seq` comprise entre une valeur de `start` et une valeur de `stop`.\n",
    "\n",
    "L'appel de la fonction `decoupe_sequence` avec les tableaux \n",
    "```python\n",
    "seq = [\"val1\", \"début\", \"val2\", \"val3\", \"end\", \"val4\", \"fin\", \"begin\", \"val5\", \"fin\", \"val6\"]\n",
    "start = [\"début\", \"begin\"]\n",
    "stop = [\"fin\", \"end\"]\n",
    "```\n",
    "doit retourner\n",
    "```python\n",
    "[\n",
    "    [\"val2\", \"val3\"],\n",
    "    [\"val5\"]\n",
    "]\n",
    "```"
   ]
  },
  {
   "cell_type": "code",
   "execution_count": 47,
   "metadata": {},
   "outputs": [],
   "source": [
    "def decoupe_sequence(seq, start, stop):\n",
    "    \"\"\"\n",
    "    On fait une boucle imbriqué pour pouvoir vérifier chaque éléments du tableau et si un élément du\n",
    "    tableau correspond a un élément du tableau start on lance une boucle qui vérifie si l'un des \n",
    "    éléments suivants correspond à un élément du tableau stop tout en prenant les éléments dans un\n",
    "    autre tableau, et si il correspond, on arrete la boucle et on continue jusqu'à la fin du tableau\n",
    "    \"\"\"\n",
    "    i = 0\n",
    "    tab = []\n",
    "    while i < len(seq):\n",
    "        y = 0 \n",
    "        while y < len(start):\n",
    "            if seq[i] == start[y]:\n",
    "                tab2 = []\n",
    "                j = 0\n",
    "                while j < 1:\n",
    "                    i += 1\n",
    "                    z = 0\n",
    "                    while z < len(stop):\n",
    "                        if seq[i] == stop[z]:\n",
    "                            tab.append(tab2)\n",
    "                            j += 1\n",
    "                        z += 1\n",
    "                    if j == 0: \n",
    "                        tab2.append(seq[i])\n",
    "            y += 1\n",
    "        i += 1\n",
    "    return tab\n"
   ]
  },
  {
   "cell_type": "code",
   "execution_count": 48,
   "metadata": {},
   "outputs": [
    {
     "name": "stdout",
     "output_type": "stream",
     "text": [
      "Test unitaire : OK\n"
     ]
    }
   ],
   "source": [
    "def test_decoupe_sequence():\n",
    "    assert decoupe_sequence([\"val1\", \"début\", \"val2\", \"val3\", \"end\", \"val4\", \"fin\", \"begin\", \"val5\", \"fin\", \"val6\"], [\"début\", \"begin\"], [\"fin\", \"end\"]) == [['val2', 'val3'], ['val5']]\n",
    "    assert decoupe_sequence([\"val1\", \"val2\", \"val3\", \"end\",\"début\", \"val4\", \"fin\", \"begin\", \"val5\", \"val6\", \"fin\"], [\"début\", \"begin\"], [\"fin\", \"end\"]) == [['val4'], ['val5', 'val6']]\n",
    "    assert decoupe_sequence([\"1\", \"2\", \"3\", \"commencement\", \"4\", \"terminus\", \"5\", \"début\", \"6\", \"7\",\"fin\"], [\"commencement\" , \"début\"], [\"fin\", \"terminus\"]) == [['4'], ['6', '7']]\n",
    "    print(\"Test unitaire : OK\")\n",
    "    \n",
    "test_decoupe_sequence()"
   ]
  },
  {
   "cell_type": "markdown",
   "metadata": {},
   "source": [
    "#### Question 3\n",
    "\n",
    "Définir la fonction `codons_to_seq_codantes` qui prend en paramètre une séquence de codons et le dictionnaire de correspondance entre codons et acides aminés, et découpe la séquence de codons en séquences codantes. Les différentes séquences sont stockées dans un tableau. L'appel de la fonction `codons_to_seq_codantes` avec la séquence  `[\"CGU\", \"UUU\", \"AUG\", \"CGU\", \"AUG\", \"AAU\", \"UAA\", \"AUG\", \"GGG\", \"CCC\", \"CGU\", \"UAG\", \"GGG\"]` doit retourner le tableau :\n",
    "```python\n",
    "[\n",
    "    [\"CGU\", \"AUG\", \"AAU\"],\n",
    "    [\"GGG\", \"CCC\", \"CGU\"]\n",
    "]\n",
    "```\n",
    "\n",
    "**Remarque :** la fonction ne doit pas retourner de séquence codante vide."
   ]
  },
  {
   "cell_type": "code",
   "execution_count": 49,
   "metadata": {},
   "outputs": [],
   "source": [
    "def codons_to_seq_codantes(codons, dico):\n",
    "    \"\"\"\n",
    "    On utilise la fonction précédente avec l'aide d'une fonction de la première partie pour pouvoir\n",
    "    transformer plus facilement les codons en séquence codantes\n",
    "    \"\"\"\n",
    "    return decoupe_sequence(codons, [\"AUG\"], codons_stop(codons))"
   ]
  },
  {
   "cell_type": "code",
   "execution_count": 50,
   "metadata": {},
   "outputs": [
    {
     "name": "stdout",
     "output_type": "stream",
     "text": [
      "Test unitaire : OK\n"
     ]
    }
   ],
   "source": [
    "def test_codons_to_seq_codantes():\n",
    "    assert codons_to_seq_codantes([\"CGU\", \"UUU\", \"AUG\", \"CGU\", \"AUG\", \"AAU\", \"UAA\", \"AUG\", \"GGG\", \"CCC\",  \"CGU\", \"UAG\", \"GGG\"], acide_aminé) == [['CGU', 'AUG', 'AAU'], ['GGG', 'CCC', 'CGU']]\n",
    "    assert codons_to_seq_codantes([\"CGU\", \"UUU\", \"CGU\", \"AUG\", \"AAU\", \"GGG\", \"CCC\",  \"CGU\", \"UAG\", \"GGG\"], acide_aminé) == [['AAU', 'GGG', 'CCC', 'CGU']]\n",
    "    assert codons_to_seq_codantes([\"CGU\", \"UUU\", \"CGU\", \"AAU\", \"GGG\", \"CCC\",  \"CGU\", \"UAG\", \"GGG\"], acide_aminé) == []\n",
    "    print(\"Test unitaire : OK\")\n",
    "    \n",
    "test_codons_to_seq_codantes()"
   ]
  },
  {
   "cell_type": "markdown",
   "metadata": {},
   "source": [
    "#### Question 4\n",
    "\n",
    "\n",
    "Définir la fonction `seq_codantes_to_seq_aas` prenant en paramètre un tableau de séquences codantes (même type que les valeurs retournées par la fonction précédente)  et le dictionnaire de correspondance entre codons et acides aminés, et retournant un tableau contenant les différentes séquences d'acides aminés codées par les différentes séquences codantes. L'appel de la fonction `seq_codantes_to_seq_aas` avec le tableau retourné dans l'exemple de la fonction `codons_to_seq_codantes` doit retourner le tableau :\n",
    "\n",
    "```python\n",
    "[\n",
    "    [\"Arginine\", \"Methionine\", \"Asparagine\"],\n",
    "    [\"Glycine\", \"Proline\", \"Arginine\"]\n",
    "]\n",
    "```\n"
   ]
  },
  {
   "cell_type": "code",
   "execution_count": 51,
   "metadata": {},
   "outputs": [],
   "source": [
    "def seq_codantes_to_seq_aas(seq_codantes, dico):\n",
    "    \"\"\"\n",
    "    On utilise la fonction précédente pour transformer plus les codons en séquence codantes et ensuite\n",
    "    on fait une boucle pour pouvoir remplacer chaque éléments en leur acides aminés\n",
    "    \"\"\"\n",
    "    cod = codons_to_seq_codantes(seq_codantes, dico)\n",
    "    i = 0 \n",
    "    tab = []\n",
    "    while i < len(cod):\n",
    "        temp = codons_to_aa(cod[i], dico)\n",
    "        tab.append(temp)\n",
    "        i +=1 \n",
    "    return tab"
   ]
  },
  {
   "cell_type": "code",
   "execution_count": 52,
   "metadata": {},
   "outputs": [
    {
     "name": "stdout",
     "output_type": "stream",
     "text": [
      "Test unitaire : OK\n"
     ]
    }
   ],
   "source": [
    "def test_seq_codantes_to_seq_aas():\n",
    "    assert seq_codantes_to_seq_aas([\"CGU\", \"UUU\", \"AUG\", \"CGU\", \"AUG\", \"AAU\", \"UAA\", \"AUG\", \"GGG\", \"CCC\",  \"CGU\", \"UAG\", \"GGG\"], acide_aminé) == [['Arginine', 'Methionine', 'Asparagine'], ['Glycine', 'Proline', 'Arginine']]\n",
    "    assert seq_codantes_to_seq_aas([\"CGU\", \"UUU\", \"CGU\", \"AUG\", \"AAU\", \"GGG\", \"CCC\",  \"CGU\", \"UAG\", \"GGG\"], acide_aminé) == [['Asparagine', 'Glycine', 'Proline', 'Arginine']]\n",
    "    assert seq_codantes_to_seq_aas([\"CGU\", \"UUU\", \"CGU\", \"AAU\", \"GGG\", \"CCC\",  \"CGU\", \"UAG\", \"GGG\"], acide_aminé) == []\n",
    "    print(\"Test unitaire : OK\")\n",
    "    \n",
    "test_seq_codantes_to_seq_aas()"
   ]
  },
  {
   "cell_type": "markdown",
   "metadata": {},
   "source": [
    "#### Question 5\n",
    "\n",
    "Définir la fonction `adn_encode_molecule` prenant en parmètre un brin d'ADN, le dictionnaire de correspondance entre codons et acides aminés et une molécule (séquence d'acide aminées). La fonction doit retourner `True` si l'ARN obtenu à partir de l'ADN puis découpé en codons contient une séquence codante correspondant à la molécule, c'est-à-dire si la séquence d'acide aminée correspondant à une séquence codante est la même que la molécule.\n",
    "Par exemple, l'appel de la fonction `adn_encode_molecule` avec l'ADN `\"CGTTTTATGCGTATGAATTAAATGGGGCCCCGTTAGGGG\"` et la molécule `[\"Glycine\", \"Proline\", \"Arginine\"]` doit retourner `True`."
   ]
  },
  {
   "cell_type": "code",
   "execution_count": 53,
   "metadata": {},
   "outputs": [],
   "source": [
    "def adn_encode_molecule(adn, dico, molecule):\n",
    "    \"\"\"\n",
    "    On transforme l'adn en arn, puis en codons, puis en en acide aminé et on compare avec la molécule\n",
    "    \"\"\"\n",
    "    ARN = arn(adn)\n",
    "    codons = arn_to_codons(ARN)\n",
    "    acide = seq_codantes_to_seq_aas(codons, dico)\n",
    "    i = 0\n",
    "    while i < len(acide):\n",
    "        if acide[i] == molecule:\n",
    "            return True\n",
    "        i += 1"
   ]
  },
  {
   "cell_type": "code",
   "execution_count": 54,
   "metadata": {},
   "outputs": [
    {
     "name": "stdout",
     "output_type": "stream",
     "text": [
      "Test unitaire : OK\n"
     ]
    }
   ],
   "source": [
    "def test_adn_encode_molecule():\n",
    "    assert adn_encode_molecule(\"CGTTTTATGCGTATGAATTAAATGGGGCCCCGTTAGGGG\", acide_aminé, [\"Glycine\", \"Proline\", \"Arginine\"]) == True\n",
    "    assert adn_encode_molecule(\"CGTTTTCGTAATTAAATGGGGCCCCGTTAGGGG\", acide_aminé, [\"Glycine\", \"Proline\", \"Arginine\"]) == True\n",
    "    assert adn_encode_molecule(\"CGTTTTCGTAATTAAGGGCCCCGTTAGGGG\", acide_aminé, [\"Glycine\", \"Proline\", \"Arginine\"]) == None\n",
    "    print(\"Test unitaire : OK\")\n",
    "    \n",
    "test_adn_encode_molecule()"
   ]
  }
 ],
 "metadata": {
  "kernelspec": {
   "display_name": "Python 3",
   "language": "python",
   "name": "python3"
  },
  "language_info": {
   "codemirror_mode": {
    "name": "ipython",
    "version": 3
   },
   "file_extension": ".py",
   "mimetype": "text/x-python",
   "name": "python",
   "nbconvert_exporter": "python",
   "pygments_lexer": "ipython3",
   "version": "3.6.13"
  }
 },
 "nbformat": 4,
 "nbformat_minor": 2
}
